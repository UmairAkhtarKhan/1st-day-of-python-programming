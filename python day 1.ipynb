{
 "cells": [
  {
   "cell_type": "code",
   "execution_count": 3,
   "id": "f59b3f55-59ca-4c88-8411-eda17d38584f",
   "metadata": {},
   "outputs": [
    {
     "data": {
      "text/plain": [
       "136"
      ]
     },
     "execution_count": 3,
     "metadata": {},
     "output_type": "execute_result"
    }
   ],
   "source": [
    "#we can use python as calculator\n",
    "23+46+67"
   ]
  },
  {
   "cell_type": "code",
   "execution_count": 10,
   "id": "75e8c68b-c426-4a26-8fe8-ec08c0c9d849",
   "metadata": {},
   "outputs": [
    {
     "name": "stdout",
     "output_type": "stream",
     "text": [
      "every pint statement has new  at the endevery pint statement has new  at the end\n",
      "every pint statement has new  at the end\n",
      "every pint statement has new  at the end we are at the end of print"
     ]
    }
   ],
   "source": [
    "#always at the end of pint statement is\\n which means new line but we can remove \\n by end,\n",
    "print('every pint statement has new  at the end', end=\"\")\n",
    "print('every pint statement has new  at the end')\n",
    "print('every pint statement has new  at the end')\n",
    "# we can wite any thing which we want to add at the end\n",
    "print('every pint statement has new  at the end', end=\" we are at the end of print\")\n",
    "\n"
   ]
  },
  {
   "cell_type": "code",
   "execution_count": 6,
   "id": "aa6fd0a9-f10f-4f76-89e1-e153cb4c87ae",
   "metadata": {},
   "outputs": [
    {
     "name": "stdout",
     "output_type": "stream",
     "text": [
      "bbbbbbaaaaa\n"
     ]
    }
   ],
   "source": [
    "#we can concatinate to sting data type\n",
    "a='bbbbbb'\n",
    "a1='aaaaa'\n",
    "print(a+a1)"
   ]
  },
  {
   "cell_type": "code",
   "execution_count": 7,
   "id": "fbfa9f2b-cfea-4f61-8cb1-f01b609bab8d",
   "metadata": {},
   "outputs": [
    {
     "data": {
      "text/plain": [
       "str"
      ]
     },
     "execution_count": 7,
     "metadata": {},
     "output_type": "execute_result"
    }
   ],
   "source": [
    "# type is builtin method tell us about the type of var\n",
    "type(a)"
   ]
  },
  {
   "cell_type": "code",
   "execution_count": 11,
   "id": "d16ee9a4-29e8-4e32-b681-ddee6e781ba5",
   "metadata": {},
   "outputs": [
    {
     "data": {
      "text/plain": [
       "10.8"
      ]
     },
     "execution_count": 11,
     "metadata": {},
     "output_type": "execute_result"
    }
   ],
   "source": [
    "# typecasting\n",
    "a='27'\n",
    "b=26\n",
    "# conversion of one data type to another is typecasting\n",
    "print(int(a)+b)\n",
    "# implicit type castin smaller data type convert into higher datatype pevent data loss\n",
    "a2=9\n",
    "b2=1.8\n",
    "# now convert the result into float\n",
    "print(a2+b2)"
   ]
  },
  {
   "cell_type": "code",
   "execution_count": null,
   "id": "4dc3c5a3-c7cc-4826-9f29-7ff7bf854fbe",
   "metadata": {},
   "outputs": [],
   "source": [
    "# user input in python\n",
    "x=input('enter your first name : ')\n",
    "y=input('enter your last name :')\n",
    "print('my name is : ',x+y)\n",
    "\n"
   ]
  },
  {
   "cell_type": "code",
   "execution_count": null,
   "id": "b1e96690-e6f2-463a-8dd0-a5f3db5e021f",
   "metadata": {},
   "outputs": [],
   "source": [
    "# python by default takes string from user input\n",
    "x1=input()\n",
    "y1=input()\n",
    "print(x1+y1)"
   ]
  },
  {
   "cell_type": "code",
   "execution_count": 15,
   "id": "37994d42-7d6c-439f-81e9-95925e07a79b",
   "metadata": {},
   "outputs": [
    {
     "name": "stdin",
     "output_type": "stream",
     "text": [
      " 122\n",
      " 222\n"
     ]
    },
    {
     "name": "stdout",
     "output_type": "stream",
     "text": [
      "344\n"
     ]
    }
   ],
   "source": [
    "# we use type casting to avoid above problem\n",
    "x2=int(input())\n",
    "y2=int(input())\n",
    "print(x2+y2)"
   ]
  },
  {
   "cell_type": "code",
   "execution_count": 21,
   "id": "cb7524d7-d667-4043-bd86-c179c45fe51b",
   "metadata": {},
   "outputs": [
    {
     "name": "stdout",
     "output_type": "stream",
     "text": [
      "abcfghcdelmn\n",
      "if we want to add \"\" in stings we use escape sequence character\n",
      "we can write multi line\n",
      "string \n",
      "inside tripple \n",
      "qutations\n",
      "a\n"
     ]
    }
   ],
   "source": [
    "# strings in python\n",
    "s1=\"abcfgh\"\n",
    "s2='cdelmn'\n",
    "print(s1+s2)\n",
    "# if we want to add \"\" in stings we use escape sequence character\n",
    "s3=\"if we want to add \\\"\\\" in stings we use escape sequence character\"\n",
    "print(s3)\n",
    "# we can write multi line string inside \"\"\" \"\"\" qutations\n",
    "s3= \"\"\"we can write multi line\n",
    "string \n",
    "inside tripple \n",
    "qutations\"\"\"\n",
    "print(s3)\n",
    "# we can access the string character by index starts form 0\n",
    "print(s1[0])"
   ]
  },
  {
   "cell_type": "code",
   "execution_count": 33,
   "id": "7168ea27-a27f-4c1c-b5a1-4d94cebf05ff",
   "metadata": {},
   "outputs": [
    {
     "name": "stdout",
     "output_type": "stream",
     "text": [
      "abcfg\n",
      "bcf\n",
      "abcf\n",
      "6\n",
      "fg\n",
      "bcfg\n"
     ]
    }
   ],
   "source": [
    "# sting slicing for slicing we use square backets[]\n",
    "# out put of below is abcfg (including 0 not 5)\n",
    "print(s1[0:5])\n",
    "# out put of below is bcf (including 0 not 4)\n",
    "print(s1[1:4])\n",
    "# out put of below is abcf (including 0 not 4)\n",
    "print(s1[:4])\n",
    "# find length len() function used \n",
    "print(len(s1))\n",
    "# negatie slicing including -3 not -1)\n",
    "print(s1[-3:-1])\n",
    "print(s1[-5:-1])\n"
   ]
  },
  {
   "cell_type": "code",
   "execution_count": null,
   "id": "dcfd9356-3ac8-43d5-8d8f-130ea5a4ac19",
   "metadata": {},
   "outputs": [],
   "source": []
  },
  {
   "cell_type": "code",
   "execution_count": null,
   "id": "05d6777d-d6e7-4da9-9742-4fbb8375c30a",
   "metadata": {},
   "outputs": [],
   "source": []
  }
 ],
 "metadata": {
  "kernelspec": {
   "display_name": "Python 3 (ipykernel)",
   "language": "python",
   "name": "python3"
  },
  "language_info": {
   "codemirror_mode": {
    "name": "ipython",
    "version": 3
   },
   "file_extension": ".py",
   "mimetype": "text/x-python",
   "name": "python",
   "nbconvert_exporter": "python",
   "pygments_lexer": "ipython3",
   "version": "3.11.7"
  }
 },
 "nbformat": 4,
 "nbformat_minor": 5
}
